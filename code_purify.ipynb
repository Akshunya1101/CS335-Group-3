{
 "cells": [
  {
   "cell_type": "code",
   "execution_count": 77,
   "metadata": {},
   "outputs": [
    {
     "name": "stdout",
     "output_type": "stream",
     "text": [
      "['Identifier', 'Dot', 'Lt', 'Gt', 'Comma', 'Atr', 'Override', 'Public', 'Protected', 'Private', 'Static', 'Abstract', 'Final', 'Native', 'Synchronized', 'Transient', 'Volatile', 'Default', 'Void', 'Lsb', 'Rsb', 'Lb', 'Rb', 'Bboolean', 'Bbyte', 'Short', 'Int', 'Long', 'Char', 'Float', 'Double', 'Package', 'Semicol', 'Import', 'Mult', 'Class', 'Extends', 'Implements', 'Lcb', 'Rcb', 'Eq', 'throws', 'This', 'Super', 'Interface', 'Col', 'If', 'Else', 'Switch', 'Case', 'While', 'Do', 'For', 'Var', 'Break', 'Continue', 'Return', 'Throw', 'Try', 'Catch', 'finally', 'Literal', 'New', 'Inc', 'Dec', 'Plus', 'Minus', 'Tilde', 'Not', 'Div', 'Mod', 'Shifter', 'Relop', 'Instanceof', 'Eqnq', 'And', 'Xor', 'Or', 'Bool_and', 'Bool_or', 'Qm', 'Eqq']\n"
     ]
    }
   ],
   "source": [
    "d = []\n",
    "v = []\n",
    "repeat=[]\n",
    "def unique_file(input_filename):\n",
    "    input_file = open(input_filename, 'r')\n",
    "    file_contents = input_file.readlines()\n",
    "    for line in file_contents:\n",
    "        line1 = line\n",
    "        if len(line1) < 2:\n",
    "            continue\n",
    "        if line1[-1] == ';':\n",
    "            line1=line1[:-1]\n",
    "        if line1[-2] == ';':\n",
    "            line1=line1[:-2]\n",
    "        if ':' not in line1:\n",
    "            line4=line1.split('|')\n",
    "            for i in range(len(line4)):\n",
    "                line4[i]=line4[i].strip()\n",
    "                line5 = line4[i].split(\" \")\n",
    "                for i in line5:\n",
    "                    if i not in v:\n",
    "                        v.append(i)\n",
    "            continue\n",
    "        line2,line3 = line1.split(':')\n",
    "        line2=line2.strip()\n",
    "        if line2 not in d:\n",
    "            d.append(line2)\n",
    "        else:\n",
    "            repeat.append(line2)\n",
    "        line4=line3.split('|')\n",
    "        for i in range(len(line4)):\n",
    "            line4[i]=line4[i].strip()\n",
    "            line5 = line4[i].split(\" \")\n",
    "            for i in line5:\n",
    "                if i not in v:\n",
    "                    v.append(i)\n",
    "\n",
    "unique_file('input.txt')\n",
    "res = []\n",
    "# with open('output.txt', 'w') as out:\n",
    "for i in v:\n",
    "    if i not in d:\n",
    "        # out.write(i + '\\n')\n",
    "        res.append(i)\n",
    "res.pop(0)\n",
    "print(res)"
   ]
  },
  {
   "cell_type": "code",
   "execution_count": null,
   "metadata": {},
   "outputs": [],
   "source": [
    "#To process input\n",
    "def make_productions(input_filename):\n",
    "    with open(input_filename, 'r') as input_file:\n",
    "        with open('output.txt', 'w') as out:\n",
    "            file_contents = input_file.readlines()\n",
    "            # open = 0\n",
    "            for line in file_contents:\n",
    "                # out.write(line)\n",
    "                if ':' in line:\n",
    "                    line1, line2 = line.split(':')\n",
    "                    out.write(line1.strip() + ': \\n')\n",
    "                    if len(line2.strip()) == 0:\n",
    "                        continue\n",
    "                elif line[0] == '|':\n",
    "                    line2 = line[1:]\n",
    "                else:\n",
    "                    line2 = line\n",
    "                for body in line2.strip().split('|'):\n",
    "                    out.write('| ' + body.strip() + '\\n')\n",
    "\n",
    "make_productions('input.txt')"
   ]
  },
  {
   "cell_type": "code",
   "execution_count": 75,
   "metadata": {},
   "outputs": [],
   "source": [
    "#remove '|' from 1st production\n",
    "def make_productions(input_filename):\n",
    "    with open(input_filename, 'r') as input_file:\n",
    "        with open('output.txt', 'w') as out:\n",
    "            file_contents = input_file.readlines()\n",
    "            remove_first=False\n",
    "            for line in file_contents:\n",
    "                if line[0] != '|':\n",
    "                    remove_first = True\n",
    "                elif remove_first:\n",
    "                    line = line[2:]\n",
    "                    remove_first = False\n",
    "                out.write(line)\n",
    "\n",
    "\n",
    "make_productions('input.txt')"
   ]
  },
  {
   "cell_type": "code",
   "execution_count": 63,
   "metadata": {},
   "outputs": [],
   "source": [
    "#Script for producing code for parse tree\n",
    "def make_ast_rules(input_filename):\n",
    "    with open(input_filename, 'r') as input_file:\n",
    "        with open('output.txt', 'w') as out:\n",
    "            file_contents = input_file.readlines()\n",
    "            for line in file_contents:\n",
    "                if ':' in line:\n",
    "                    name = line[:-3]\n",
    "                    out.write(line.strip() + '\\n')\n",
    "                else:\n",
    "                    if line[0] == '|':\n",
    "                        line1 = line[1:].strip().split(' ')\n",
    "                    else:\n",
    "                        line1 = line.strip().split(' ')\n",
    "                    out.write(line.strip() + ' { $$ = nodecount++; labels[$$] = \"' + name + '\";\\n')\n",
    "                    i = 1\n",
    "                    for var in line1:\n",
    "                        j = str(i)\n",
    "                        if var in res:\n",
    "                            out.write('($'+j+').num = nodecount++; labels[($'+j+').num] = ($'+j+').str; from.pb($$); to.pb(($'+j+').num);\\n')\n",
    "                        else:\n",
    "                            out.write('from.pb($$); to.pb($'+j+');\\n')\n",
    "                        i += 1\n",
    "                    out.write('}\\n')\n",
    "\n",
    "make_ast_rules('input.txt')"
   ]
  },
  {
   "cell_type": "code",
   "execution_count": 78,
   "metadata": {},
   "outputs": [],
   "source": [
    "#Script for producing code for ast (by removing parent edge in the case of single transition)\n",
    "def make_ast_rules(input_filename):\n",
    "    with open(input_filename, 'r') as input_file:\n",
    "        with open('output.txt', 'w') as out:\n",
    "            file_contents = input_file.readlines()\n",
    "            for line in file_contents:\n",
    "                if ':' in line:\n",
    "                    name = line[:-3]\n",
    "                    out.write(line.strip() + '\\n')\n",
    "                else:\n",
    "                    if line[0] == '|':\n",
    "                        line1 = line[1:].strip().split(' ')\n",
    "                    else:\n",
    "                        line1 = line.strip().split(' ')\n",
    "\n",
    "                    if len(line1) == 1:\n",
    "                        if line1[0] in res:\n",
    "                            out.write(line.strip() + ' { ($1).num = nodecount++; labels[($1).num] = ($1).str; $$ = ($1).num; }\\n')\n",
    "                        elif line1[0] == '':\n",
    "                            out.write(line.strip() + ' { $$ = nodecount++; labels[$$] = \"' + name + '\"; }\\n')\n",
    "                        else:\n",
    "                            out.write(line.strip() + ' { $$=$1; }\\n')\n",
    "                    else:\n",
    "                        out.write(line.strip() + ' { $$ = nodecount++; labels[$$] = \"' + name + '\";\\n')\n",
    "                        i = 1\n",
    "                        for var in line1:\n",
    "                            j = str(i)\n",
    "                            if var in res:\n",
    "                                out.write('($'+j+').num = nodecount++; labels[($'+j+').num] = ($'+j+').str; from.pb($$); to.pb(($'+j+').num);\\n')\n",
    "                            else:\n",
    "                                out.write('from.pb($$); to.pb($'+j+');\\n')\n",
    "                            i += 1\n",
    "                        out.write('}\\n')\n",
    "\n",
    "make_ast_rules('input.txt')"
   ]
  },
  {
   "cell_type": "code",
   "execution_count": 84,
   "metadata": {},
   "outputs": [
    {
     "name": "stdout",
     "output_type": "stream",
     "text": [
      "Eq\n",
      "Mult\n",
      "Div\n",
      "Mod\n",
      "Plus\n",
      "Minus\n",
      "Shifter\n",
      "Lt\n",
      "Gt\n",
      "Relop\n",
      "Eqnq\n",
      "And\n",
      "Xor\n",
      "Or\n",
      "Bool_and\n",
      "Bool_or\n"
     ]
    }
   ],
   "source": [
    "#Script for producing code for ast2 taking care for expressions\n",
    "operator_list = ['Lt', 'Gt', 'Plus', 'Minus', 'Mult', 'Div', 'Mod', 'Shifter', 'Eqnq', 'And', 'Xor', 'Or', 'Bool_and', 'Eq', 'Eqq', 'Bool_or', 'Relop']\n",
    "def make_ast_rules(input_filename):\n",
    "    with open(input_filename, 'r') as input_file:\n",
    "        with open('output.txt', 'w') as out:\n",
    "            file_contents = input_file.readlines()\n",
    "            for line in file_contents:\n",
    "                if ':' in line:\n",
    "                    name = line[:-3]\n",
    "                    out.write(line.strip() + '\\n')\n",
    "                else:\n",
    "                    if line[0] == '|':\n",
    "                        line1 = line[1:].strip().split(' ')\n",
    "                    else:\n",
    "                        line1 = line.strip().split(' ')\n",
    "\n",
    "                    if len(line1) == 1:\n",
    "                        if line1[0] in res:\n",
    "                            out.write(line.strip() + ' { ($1).num = nodecount++; labels[($1).num] = ($1).str; $$ = ($1).num; }\\n')\n",
    "                        elif line1[0] == '':\n",
    "                            out.write(line.strip() + ' { $$ = nodecount++; labels[$$] = \"' + name + '\"; }\\n')\n",
    "                        else:\n",
    "                            out.write(line.strip() + ' { $$=$1; }\\n')\n",
    "                    elif len(line1) == 3 and line1[1].strip() in operator_list:\n",
    "                        print(line1[1].strip())\n",
    "                        out.write(line.strip() + ' { ($2).num = nodecount++; labels[($2).num] = ($2).str; $$ = ($2).num;\\n')\n",
    "                        if line1[0] in res:\n",
    "                            out.write('($1).num = nodecount++; labels[($1).num] = ($1).str; from.pb($$); to.pb(($1).num);\\n')\n",
    "                        else:\n",
    "                            out.write('from.pb($$); to.pb($1);\\n')\n",
    "                        if line1[2] in res:\n",
    "                            out.write('($3).num = nodecount++; labels[($3).num] = ($3).str; from.pb($$); to.pb(($3).num);\\n')\n",
    "                        else:\n",
    "                            out.write('from.pb($$); to.pb($3);\\n')\n",
    "                        out.write('}\\n')\n",
    "                    else:\n",
    "                        out.write(line.strip() + ' { $$ = nodecount++; labels[$$] = \"' + name + '\";\\n')\n",
    "                        i = 1\n",
    "                        for var in line1:\n",
    "                            j = str(i)\n",
    "                            if var in res:\n",
    "                                out.write('($'+j+').num = nodecount++; labels[($'+j+').num] = ($'+j+').str; from.pb($$); to.pb(($'+j+').num);\\n')\n",
    "                            else:\n",
    "                                out.write('from.pb($$); to.pb($'+j+');\\n')\n",
    "                            i += 1\n",
    "                        out.write('}\\n')\n",
    "\n",
    "make_ast_rules('input.txt')"
   ]
  },
  {
   "cell_type": "code",
   "execution_count": 80,
   "metadata": {},
   "outputs": [
    {
     "data": {
      "text/plain": [
       "17"
      ]
     },
     "execution_count": 80,
     "metadata": {},
     "output_type": "execute_result"
    }
   ],
   "source": [
    "operator_list = ['LT', 'GT', 'PLUS', 'MINUS', 'MULT', 'DIV', 'MOD', 'SHIFTER', 'EQNQ', 'AND', 'XOR', 'OR', 'BOOL_AND', 'EQ', 'EQQ', 'BOOL_OR', 'RELOP']\n",
    "len(operator_list)"
   ]
  }
 ],
 "metadata": {
  "kernelspec": {
   "display_name": "Python 3",
   "language": "python",
   "name": "python3"
  },
  "language_info": {
   "codemirror_mode": {
    "name": "ipython",
    "version": 3
   },
   "file_extension": ".py",
   "mimetype": "text/x-python",
   "name": "python",
   "nbconvert_exporter": "python",
   "pygments_lexer": "ipython3",
   "version": "3.10.6"
  },
  "orig_nbformat": 4,
  "vscode": {
   "interpreter": {
    "hash": "916dbcbb3f70747c44a77c7bcd40155683ae19c65e1c03b4aa3499c5328201f1"
   }
  }
 },
 "nbformat": 4,
 "nbformat_minor": 2
}
